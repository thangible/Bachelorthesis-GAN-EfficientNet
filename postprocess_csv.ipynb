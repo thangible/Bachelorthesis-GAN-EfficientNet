{
 "cells": [
  {
   "cell_type": "code",
   "execution_count": 6,
   "metadata": {},
   "outputs": [],
   "source": [
    "import pandas as pd\n"
   ]
  },
  {
   "cell_type": "code",
   "execution_count": 14,
   "metadata": {},
   "outputs": [],
   "source": [
    "pd.read_csv('results/perspective.csv')[:100].max().drop_duplicates().round(4).to_csv('results/pecspective_edit.csv')"
   ]
  },
  {
   "attachments": {},
   "cell_type": "markdown",
   "metadata": {},
   "source": [
    ",0\n",
    "epoch,99.0\n",
    "\"NEWPerspective scale_0.7 ,lr: 0.0001, epochs: 300, size: 256 - _step\",863.0\n",
    "\"NEWPerspective scale_0.7 ,lr: 0.0001, epochs: 300, size: 256 - f1score top 3\",0.2544\n",
    "\"NEWPerspective scale_0.6 ,lr: 0.0001, epochs:  256 300, size: 256 - f1score top 3\",0.2542\n",
    "\"NEWPerspective scale_0.5 ,lr: 0.0001, epochs: 300, size: 256 - f1score top 3\",0.2704\n",
    "\"NEWPerspective scale_0.4 ,lr: 0.0001, epochs: 300, size: 256 - f1score top 3\",0.3014\n",
    "\"NEWPerspective scale_0.3 ,lr: 0.0001, epochs: 300, size:- f1score top 3\",0.3091\n",
    "\"NEWPerspective scale_0.2 ,lr: 0.0001, epochs: 300, size: 256 - f1score top 3\",0.3126\n"
   ]
  }
 ],
 "metadata": {
  "kernelspec": {
   "display_name": "eff",
   "language": "python",
   "name": "python3"
  },
  "language_info": {
   "codemirror_mode": {
    "name": "ipython",
    "version": 3
   },
   "file_extension": ".py",
   "mimetype": "text/x-python",
   "name": "python",
   "nbconvert_exporter": "python",
   "pygments_lexer": "ipython3",
   "version": "3.11.2"
  },
  "orig_nbformat": 4
 },
 "nbformat": 4,
 "nbformat_minor": 2
}
