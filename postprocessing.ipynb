{
 "cells": [
  {
   "cell_type": "code",
   "execution_count": 1,
   "metadata": {},
   "outputs": [
    {
     "name": "stderr",
     "output_type": "stream",
     "text": [
      "/home/student/anaconda3/envs/efficientnet/lib/python3.10/site-packages/tqdm/auto.py:22: TqdmWarning: IProgress not found. Please update jupyter and ipywidgets. See https://ipywidgets.readthedocs.io/en/stable/user_install.html\n",
      "  from .autonotebook import tqdm as notebook_tqdm\n"
     ]
    }
   ],
   "source": [
    "import torch\n",
    "from dataset_utils import edge_stratified_split\n",
    "from localtest.classification_dataset_test import ClassificationDataset\n",
    "from  config.parser_config import config_parser\n",
    "from torch.utils.data import DataLoader"
   ]
  },
  {
   "attachments": {},
   "cell_type": "markdown",
   "metadata": {},
   "source": [
    "# GET EDGE DATA"
   ]
  },
  {
   "cell_type": "code",
   "execution_count": 32,
   "metadata": {},
   "outputs": [],
   "source": [
    "parser = config_parser()\n",
    "argv = '--config localtest/localtest_config'.split(' ') \n",
    "args  = parser.parse_args(argv)\n",
    "full_dataset = ClassificationDataset(\n",
    "        one_hot = False,\n",
    "        augmentation= None,\n",
    "        npz_path= args.npz_path,\n",
    "        image_path= args.image_path,\n",
    "        label_path= args.label_path,\n",
    "        size = args.size,\n",
    "        normalize= True)\n",
    "\n",
    "edge_classes = [\"Gryllteiste\",\"Schnatterente\",\"Buchfink\",\"unbestimmte Larusmöwe\",\n",
    "                    \"Schmarotzer/Spatel/Falkenraubmöwe\",\"Brandgans\",\"Wasserlinie mit Großalgen\",\n",
    "                    \"Feldlerche\",\"Schmarotzerraubmöwe\",\"Grosser Brachvogel\",\"unbestimmte Raubmöwe\",\n",
    "                    \"Turmfalke\",\"Trauerseeschwalbe\",\"unbestimmter Schwan\",\n",
    "                    \"Sperber\",\"Kiebitzregenpfeifer\",\n",
    "                    \"Skua\",\"Graugans\",\"unbestimmte Krähe\"]\n",
    "\n",
    "edge_labels = [full_dataset._get_label_from_cat(cat) for cat in edge_classes]\n",
    "\n",
    "edge_train_data, edge_test_data = edge_stratified_split(full_dataset, full_labels = full_dataset._labels, edge_labels = edge_labels,  fraction = 0.8, random_state = 0)                     \n",
    "trainloader = DataLoader(edge_train_data,\n",
    "                                batch_size=1, \n",
    "                                shuffle=True,\n",
    "                                num_workers=args.num_workers)\n",
    "\n",
    "testloader = DataLoader(edge_test_data,\n",
    "                                batch_size=1, \n",
    "                                shuffle=True,\n",
    "                                num_workers=args.num_workers)"
   ]
  },
  {
   "cell_type": "code",
   "execution_count": 37,
   "metadata": {},
   "outputs": [],
   "source": [
    "train_dict = {}\n",
    "for _, label, cat, name in trainloader:\n",
    "    cat = cat[0]\n",
    "    name = name[0]\n",
    "    if cat in train_dict.keys():\n",
    "        train_dict[cat].append(name)\n",
    "    else:\n",
    "        train_dict[cat] = [name]\n",
    "        \n",
    "\n",
    "test_dict = {}\n",
    "for _, label, cat, name in testloader:\n",
    "    cat = cat[0]\n",
    "    name = name[0]\n",
    "    if cat in test_dict.keys():\n",
    "        test_dict[cat].append(name)\n",
    "    else:\n",
    "        test_dict[cat] = [name]"
   ]
  },
  {
   "cell_type": "code",
   "execution_count": 38,
   "metadata": {},
   "outputs": [],
   "source": [
    "to_dir = '/home/student/Dokumente/edge'"
   ]
  },
  {
   "cell_type": "code",
   "execution_count": 39,
   "metadata": {},
   "outputs": [],
   "source": [
    "import os\n",
    "import shutil \n",
    "for cat in train_dict.keys():\n",
    "    for image in train_dict[cat]:\n",
    "        from_loc = os.path.join(args.image_path, image)        \n",
    "        train_dir = os.path.join(to_dir, cat, 'train')\n",
    "        if not os.path.exists(train_dir):\n",
    "            os.makedirs(train_dir)\n",
    "        to_loc = os.path.join(train_dir, image)\n",
    "        shutil.copy(from_loc, train_dir)\n",
    "        "
   ]
  },
  {
   "cell_type": "code",
   "execution_count": 40,
   "metadata": {},
   "outputs": [],
   "source": [
    "for cat in test_dict.keys():\n",
    "    for image in test_dict[cat]:\n",
    "        from_loc = os.path.join(args.image_path, image)        \n",
    "        train_dir = os.path.join(to_dir, cat, 'test')\n",
    "        if not os.path.exists(train_dir):\n",
    "            os.makedirs(train_dir)\n",
    "        to_loc = os.path.join(train_dir, image)\n",
    "        shutil.copy(from_loc, train_dir)"
   ]
  },
  {
   "attachments": {},
   "cell_type": "markdown",
   "metadata": {},
   "source": [
    "# GAN"
   ]
  },
  {
   "cell_type": "code",
   "execution_count": 55,
   "metadata": {},
   "outputs": [],
   "source": [
    "from model.vanilla_cgan import Generator\n",
    "import torch.nn as nn\n",
    "device = torch.device('cpu')\n",
    "map_location=torch.device('cpu')\n",
    "class_num = 118\n",
    "img_size = 256\n",
    "model_dim = 256\n",
    "lr = 0.00005\n",
    "batch_size = 25\n",
    "z_size = 1\n",
    "generator_layer_size = [model_dim, model_dim*2, model_dim*4]\n",
    "generator = Generator(generator_layer_size, z_size, img_size, class_num)\n",
    "# discriminator = Discriminator(discriminator_layer_size, img_size, class_num).to(device)\n",
    "criterion = nn.BCELoss()\n",
    "g_optimizer = torch.optim.Adam(generator.parameters(), lr=lr)\n",
    "# d_optimizer = torch.optim.Adam(discriminator.parameters(), lr=lr)"
   ]
  },
  {
   "cell_type": "code",
   "execution_count": 56,
   "metadata": {},
   "outputs": [
    {
     "ename": "RuntimeError",
     "evalue": "Error(s) in loading state_dict for Generator:\n\tsize mismatch for model.0.weight: copying a param with shape torch.Size([1024, 119]) from checkpoint, the shape in current model is torch.Size([256, 119]).\n\tsize mismatch for model.0.bias: copying a param with shape torch.Size([1024]) from checkpoint, the shape in current model is torch.Size([256]).\n\tsize mismatch for model.2.weight: copying a param with shape torch.Size([512, 1024]) from checkpoint, the shape in current model is torch.Size([512, 256]).\n\tsize mismatch for model.4.weight: copying a param with shape torch.Size([256, 512]) from checkpoint, the shape in current model is torch.Size([1024, 512]).\n\tsize mismatch for model.4.bias: copying a param with shape torch.Size([256]) from checkpoint, the shape in current model is torch.Size([1024]).\n\tsize mismatch for model.6.weight: copying a param with shape torch.Size([196608, 256]) from checkpoint, the shape in current model is torch.Size([196608, 1024]).",
     "output_type": "error",
     "traceback": [
      "\u001b[0;31m---------------------------------------------------------------------------\u001b[0m",
      "\u001b[0;31mRuntimeError\u001b[0m                              Traceback (most recent call last)",
      "Cell \u001b[0;32mIn[56], line 3\u001b[0m\n\u001b[1;32m      1\u001b[0m map_location\u001b[39m=\u001b[39mtorch\u001b[39m.\u001b[39mdevice(\u001b[39m'\u001b[39m\u001b[39mcpu\u001b[39m\u001b[39m'\u001b[39m)\n\u001b[1;32m      2\u001b[0m g_checkpoint\u001b[39m=\u001b[39m torch\u001b[39m.\u001b[39mload(\u001b[39m'\u001b[39m\u001b[39msaved_models/vanilla_gan/generator_TRAIN_cGAN,_dim:256,_lr:_5e-05,_epochs:_10000,_size:_256.pt\u001b[39m\u001b[39m'\u001b[39m, map_location\u001b[39m=\u001b[39mtorch\u001b[39m.\u001b[39mdevice(\u001b[39m'\u001b[39m\u001b[39mcpu\u001b[39m\u001b[39m'\u001b[39m))\n\u001b[0;32m----> 3\u001b[0m generator\u001b[39m.\u001b[39;49mload_state_dict(g_checkpoint[\u001b[39m'\u001b[39;49m\u001b[39mmodel_state_dict\u001b[39;49m\u001b[39m'\u001b[39;49m])\n\u001b[1;32m      4\u001b[0m g_optimizer\u001b[39m.\u001b[39mload_state_dict(g_checkpoint[\u001b[39m'\u001b[39m\u001b[39moptimizer_state_dict\u001b[39m\u001b[39m'\u001b[39m])\n\u001b[1;32m      5\u001b[0m epoch \u001b[39m=\u001b[39m g_checkpoint[\u001b[39m'\u001b[39m\u001b[39mepoch\u001b[39m\u001b[39m'\u001b[39m]\n",
      "File \u001b[0;32m~/anaconda3/envs/efficientnet/lib/python3.10/site-packages/torch/nn/modules/module.py:1671\u001b[0m, in \u001b[0;36mModule.load_state_dict\u001b[0;34m(self, state_dict, strict)\u001b[0m\n\u001b[1;32m   1666\u001b[0m         error_msgs\u001b[39m.\u001b[39minsert(\n\u001b[1;32m   1667\u001b[0m             \u001b[39m0\u001b[39m, \u001b[39m'\u001b[39m\u001b[39mMissing key(s) in state_dict: \u001b[39m\u001b[39m{}\u001b[39;00m\u001b[39m. \u001b[39m\u001b[39m'\u001b[39m\u001b[39m.\u001b[39mformat(\n\u001b[1;32m   1668\u001b[0m                 \u001b[39m'\u001b[39m\u001b[39m, \u001b[39m\u001b[39m'\u001b[39m\u001b[39m.\u001b[39mjoin(\u001b[39m'\u001b[39m\u001b[39m\"\u001b[39m\u001b[39m{}\u001b[39;00m\u001b[39m\"\u001b[39m\u001b[39m'\u001b[39m\u001b[39m.\u001b[39mformat(k) \u001b[39mfor\u001b[39;00m k \u001b[39min\u001b[39;00m missing_keys)))\n\u001b[1;32m   1670\u001b[0m \u001b[39mif\u001b[39;00m \u001b[39mlen\u001b[39m(error_msgs) \u001b[39m>\u001b[39m \u001b[39m0\u001b[39m:\n\u001b[0;32m-> 1671\u001b[0m     \u001b[39mraise\u001b[39;00m \u001b[39mRuntimeError\u001b[39;00m(\u001b[39m'\u001b[39m\u001b[39mError(s) in loading state_dict for \u001b[39m\u001b[39m{}\u001b[39;00m\u001b[39m:\u001b[39m\u001b[39m\\n\u001b[39;00m\u001b[39m\\t\u001b[39;00m\u001b[39m{}\u001b[39;00m\u001b[39m'\u001b[39m\u001b[39m.\u001b[39mformat(\n\u001b[1;32m   1672\u001b[0m                        \u001b[39mself\u001b[39m\u001b[39m.\u001b[39m\u001b[39m__class__\u001b[39m\u001b[39m.\u001b[39m\u001b[39m__name__\u001b[39m, \u001b[39m\"\u001b[39m\u001b[39m\\n\u001b[39;00m\u001b[39m\\t\u001b[39;00m\u001b[39m\"\u001b[39m\u001b[39m.\u001b[39mjoin(error_msgs)))\n\u001b[1;32m   1673\u001b[0m \u001b[39mreturn\u001b[39;00m _IncompatibleKeys(missing_keys, unexpected_keys)\n",
      "\u001b[0;31mRuntimeError\u001b[0m: Error(s) in loading state_dict for Generator:\n\tsize mismatch for model.0.weight: copying a param with shape torch.Size([1024, 119]) from checkpoint, the shape in current model is torch.Size([256, 119]).\n\tsize mismatch for model.0.bias: copying a param with shape torch.Size([1024]) from checkpoint, the shape in current model is torch.Size([256]).\n\tsize mismatch for model.2.weight: copying a param with shape torch.Size([512, 1024]) from checkpoint, the shape in current model is torch.Size([512, 256]).\n\tsize mismatch for model.4.weight: copying a param with shape torch.Size([256, 512]) from checkpoint, the shape in current model is torch.Size([1024, 512]).\n\tsize mismatch for model.4.bias: copying a param with shape torch.Size([256]) from checkpoint, the shape in current model is torch.Size([1024]).\n\tsize mismatch for model.6.weight: copying a param with shape torch.Size([196608, 256]) from checkpoint, the shape in current model is torch.Size([196608, 1024])."
     ]
    }
   ],
   "source": [
    "map_location=torch.device('cpu')\n",
    "g_checkpoint= torch.load('saved_models/vanilla_gan/generator_TRAIN_cGAN,_dim:256,_lr:_5e-05,_epochs:_10000,_size:_256.pt', map_location=torch.device('cpu'))\n",
    "generator.load_state_dict(g_checkpoint['model_state_dict'])\n",
    "g_optimizer.load_state_dict(g_checkpoint['optimizer_state_dict'])\n",
    "epoch = g_checkpoint['epoch']\n",
    "g_loss = g_checkpoint['loss']"
   ]
  },
  {
   "cell_type": "code",
   "execution_count": null,
   "metadata": {},
   "outputs": [],
   "source": []
  }
 ],
 "metadata": {
  "kernelspec": {
   "display_name": "efficientnet",
   "language": "python",
   "name": "python3"
  },
  "language_info": {
   "codemirror_mode": {
    "name": "ipython",
    "version": 3
   },
   "file_extension": ".py",
   "mimetype": "text/x-python",
   "name": "python",
   "nbconvert_exporter": "python",
   "pygments_lexer": "ipython3",
   "version": "3.10.8 (main, Nov 24 2022, 14:13:03) [GCC 11.2.0]"
  },
  "orig_nbformat": 4,
  "vscode": {
   "interpreter": {
    "hash": "1f2da8fd353b9accb7305af3972cbc182751196940ed0d5ee3a1a6f8e3dc0d34"
   }
  }
 },
 "nbformat": 4,
 "nbformat_minor": 2
}
