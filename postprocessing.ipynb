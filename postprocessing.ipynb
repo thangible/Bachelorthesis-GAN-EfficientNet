{
 "cells": [
  {
   "cell_type": "code",
   "execution_count": null,
   "metadata": {},
   "outputs": [],
   "source": [
    "import torch\n",
    "from dataset_utils import edge_stratified_split\n",
    "from classification_dataset import ClassificationDataset\n",
    "from  config.parser_config import config_parser\n",
    "from torch.utils.data import DataLoader"
   ]
  },
  {
   "cell_type": "code",
   "execution_count": null,
   "metadata": {},
   "outputs": [],
   "source": [
    "parser = config_parser()\n",
    "argv = '--config input_config'.split() \n",
    "args  = parser.parse_args(argv)\n",
    "full_dataset = ClassificationDataset(\n",
    "        one_hot = False,\n",
    "        augmentation= 'no augment',\n",
    "        npz_path= args.npz_path,\n",
    "        image_path= args.image_path,\n",
    "        label_path= args.label_path,\n",
    "        size = args.size,\n",
    "        normalize= True)\n",
    "\n",
    "edge_classes = [\"Gryllteiste\",\"Schnatterente\",\"Buchfink\",\"unbestimmte Larusmöwe\",\n",
    "                    \"Schmarotzer/Spatel/Falkenraubmöwe\",\"Brandgans\",\"Wasserlinie mit Großalgen\",\n",
    "                    \"Feldlerche\",\"Schmarotzerraubmöwe\",\"Grosser Brachvogel\",\"unbestimmte Raubmöwe\",\n",
    "                    \"Turmfalke\",\"Trauerseeschwalbe\",\"unbestimmter Schwan\",\n",
    "                    \"Sperber\",\"Kiebitzregenpfeifer\",\n",
    "                    \"Skua\",\"Graugans\",\"unbestimmte Krähe\"]\n",
    "\n",
    "edge_labels = [full_dataset._get_label_from_cat(cat) for cat in edge_classes]\n",
    "\n",
    "edge_train_data, _ = edge_stratified_split(full_dataset, full_labels = full_dataset._labels, edge_labels = edge_labels,  fraction = 0.8, random_state = 0)                     \n",
    "loader = DataLoader(edge_train_data,\n",
    "                                batch_size=8, \n",
    "                                shuffle=True,\n",
    "                                num_workers=args.num_workers)"
   ]
  },
  {
   "cell_type": "code",
   "execution_count": 1,
   "metadata": {},
   "outputs": [],
   "source": [
    "edge_classes = [\"Gryllteiste\",\"Schnatterente\",\"Buchfink\",\"unbestimmte Larusmöwe\",\n",
    "                        \"Schmarotzer/Spatel/Falkenraubmöwe\",\"Brandgans\",\"Wasserlinie mit Großalgen\",\n",
    "                        \"Feldlerche\",\"Schmarotzerraubmöwe\",\"Grosser Brachvogel\",\"unbestimmte Raubmöwe\",\n",
    "                        \"Turmfalke\",\"Trauerseeschwalbe\",\"unbestimmter Schwan\",\n",
    "                        \"Sperber\",\"Kiebitzregenpfeifer\",\n",
    "                        \"Skua\",\"Graugans\",\"unbestimmte Krähe\"]\n"
   ]
  },
  {
   "cell_type": "code",
   "execution_count": 2,
   "metadata": {},
   "outputs": [
    {
     "name": "stderr",
     "output_type": "stream",
     "text": [
      "/home/student/anaconda3/envs/efficientnet/lib/python3.10/site-packages/tqdm/auto.py:22: TqdmWarning: IProgress not found. Please update jupyter and ipywidgets. See https://ipywidgets.readthedocs.io/en/stable/user_install.html\n",
      "  from .autonotebook import tqdm as notebook_tqdm\n"
     ]
    }
   ],
   "source": [
    "import torch"
   ]
  },
  {
   "cell_type": "code",
   "execution_count": null,
   "metadata": {},
   "outputs": [],
   "source": []
  }
 ],
 "metadata": {
  "kernelspec": {
   "display_name": "efficientnet",
   "language": "python",
   "name": "python3"
  },
  "language_info": {
   "codemirror_mode": {
    "name": "ipython",
    "version": 3
   },
   "file_extension": ".py",
   "mimetype": "text/x-python",
   "name": "python",
   "nbconvert_exporter": "python",
   "pygments_lexer": "ipython3",
   "version": "3.10.8"
  },
  "orig_nbformat": 4,
  "vscode": {
   "interpreter": {
    "hash": "1f2da8fd353b9accb7305af3972cbc182751196940ed0d5ee3a1a6f8e3dc0d34"
   }
  }
 },
 "nbformat": 4,
 "nbformat_minor": 2
}
